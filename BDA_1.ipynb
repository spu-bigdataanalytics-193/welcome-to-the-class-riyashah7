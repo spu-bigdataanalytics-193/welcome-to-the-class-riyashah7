{
 "cells": [
  {
   "cell_type": "code",
   "execution_count": 25,
   "metadata": {},
   "outputs": [],
   "source": [
    "from tabulate import tabulate"
   ]
  },
  {
   "cell_type": "code",
   "execution_count": 29,
   "metadata": {},
   "outputs": [],
   "source": [
    "class Person:\n",
    "    def __init__(self, fname, lname):\n",
    "        self.fname = fname\n",
    "        self.lname = lname"
   ]
  },
  {
   "cell_type": "code",
   "execution_count": 30,
   "metadata": {},
   "outputs": [],
   "source": [
    "\n",
    "class Student(Person):\n",
    "    def __init__(self, fname, lname, uni_name, graduation_year):\n",
    "        super().__init__(fname, lname)\n",
    "        self.uni_name = uni_name\n",
    "        self.graduation_year = graduation_year\n",
    "        \n",
    "    def details(self):\n",
    "        print(tabulate([[self.fname, self.lname, self.uni_name, self.graduation_year]], headers=[\"First Name\", \"Last Name\", \"University\", \"Graduation Year\"]))\n",
    "       # print(\"Full Name:\", self.fname, self.lname)\n",
    "       # print(\"University name:\", self.uni_name)\n",
    "       # print(\"Graduation Year:\", self.graduation_year)\n",
    "    "
   ]
  },
  {
   "cell_type": "code",
   "execution_count": 31,
   "metadata": {},
   "outputs": [
    {
     "name": "stdout",
     "output_type": "stream",
     "text": [
      "First Name    Last Name    University                  Graduation Year\n",
      "------------  -----------  ------------------------  -----------------\n",
      "Riya          Shah         Saint Peter's University               2019\n"
     ]
    }
   ],
   "source": [
    "student1 = Student(\"Riya\", \"Shah\", \"Saint Peter's University\", 2019)\n",
    "student1.details()"
   ]
  },
  {
   "cell_type": "code",
   "execution_count": null,
   "metadata": {},
   "outputs": [],
   "source": []
  }
 ],
 "metadata": {
  "kernelspec": {
   "display_name": "Python 3",
   "language": "python",
   "name": "python3"
  },
  "language_info": {
   "codemirror_mode": {
    "name": "ipython",
    "version": 3
   },
   "file_extension": ".py",
   "mimetype": "text/x-python",
   "name": "python",
   "nbconvert_exporter": "python",
   "pygments_lexer": "ipython3",
   "version": "3.7.4"
  }
 },
 "nbformat": 4,
 "nbformat_minor": 2
}
